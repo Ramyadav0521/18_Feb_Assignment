{
 "cells": [
  {
   "cell_type": "code",
   "execution_count": 1,
   "id": "f0108038-2180-4521-aef4-bcd1bfe0c91b",
   "metadata": {},
   "outputs": [],
   "source": [
    "# Q1. What is an API? Give an example, where an API is used in real life."
   ]
  },
  {
   "cell_type": "code",
   "execution_count": 3,
   "id": "81f37453-70a0-44a7-9fd0-1ff72c374ccb",
   "metadata": {},
   "outputs": [],
   "source": [
    "# API stands for Application Programming Interface(API)\n",
    "# An Api is a software intermediary that allows two or more  application to talk to each other.\n",
    "\n",
    "# Today, we use mobile apps for almost all purposes. The purpose ranges from simply sending a message to checking cricket scores online. Application Programming Interface (API) is used to \n",
    "# communicate between apps and to access and fetch the required information.\n",
    "\n",
    "\n",
    "# Example:-\n",
    "#         Application <----------------> Google Map Api <------------> Google map\n",
    "#             Consumer                     API                            Provider\n",
    "#     Request:-                              Respons:-\n",
    "#                 get:/api/student                   {\"id\":1, \"name\":\"Ram Yadav\",}\n",
    "#                                                    {\"id\":1, \"name\": \"Harry Singh\"}\n",
    "\n",
    "        "
   ]
  },
  {
   "cell_type": "code",
   "execution_count": null,
   "id": "cd51000d-1811-4a09-9046-877eeb703d21",
   "metadata": {},
   "outputs": [],
   "source": []
  },
  {
   "cell_type": "code",
   "execution_count": null,
   "id": "9405c93e-e151-473e-bf8a-9e9727ea4c92",
   "metadata": {},
   "outputs": [],
   "source": [
    "# Q2. Give advantages and disadvantages of using API."
   ]
  },
  {
   "cell_type": "code",
   "execution_count": null,
   "id": "515e7ab3-a035-4768-84f2-1da489dee212",
   "metadata": {},
   "outputs": [],
   "source": [
    "# Advantages:-->\n",
    "# When you have content that is automatically published and made available on different channels simultaneously, \n",
    "# APIs allow for more efficient data distribution.\n",
    "\n",
    "# Quicker Release. GUI tests have a reputation for taking longer to release products. ...\n",
    "# Better Test Coverage. ...\n",
    "# Ease to Shift Left. ...\n",
    "# Lower Maintenance to Do. ...\n",
    "# Faster Bug Fixes. ...\n",
    "# Reduced Testing Costs. ...\n",
    "# Universal Language Understanding\n",
    "\n",
    "\n",
    "# Disadvantages:-->\n",
    "\n",
    "# As a single point of entry, an API is a gateway and can become a hacker's primary target.\n",
    "# Once the API is compromised, all other applications and systems become vulnerable\n",
    "\n",
    "#  you can lose the ability to maintain state in REST, such as within sessions. It can also be more difficult for newer developers to use. \n",
    "# It's important to understand what makes a REST API RESTful, and why these constraints exist before building your API.\n"
   ]
  },
  {
   "cell_type": "code",
   "execution_count": null,
   "id": "3eab629a-28c2-4097-be13-f8c2ac1636d2",
   "metadata": {},
   "outputs": [],
   "source": []
  },
  {
   "cell_type": "code",
   "execution_count": null,
   "id": "f5d0fad2-a8a3-4ef5-a910-c35eebace899",
   "metadata": {},
   "outputs": [],
   "source": [
    "# Q3. What is a Web API? Differentiate between API and Web API."
   ]
  },
  {
   "cell_type": "code",
   "execution_count": null,
   "id": "cabff6a4-0194-43bb-b866-91fefe560db4",
   "metadata": {},
   "outputs": [],
   "source": [
    "# #                        Web API\n",
    "# # An API, which is interface for web is called as web API.\n",
    "# # It may consist of one or more endpoints to define request and response\n",
    "# # A Browser API can extend the functionality of a web browser.\n",
    "# # A Server API can extend the functionality of a web server.\n",
    "# A Web API stands for Application Programming Interface. It is a software application that allows two different applications or machines to interact with each other without any user interference. \n",
    "# The API contains a complete set of rules and specifications used when interacting with any web application\n",
    "\n",
    "\n",
    "# API VS Web API\n",
    "# The web services are the software components that transfer specific data/information, sending or posting data, or updating data over the web protocols like HTTP with XML Language. Furthermore, we can also say that a web service is a type of service that helps transfer the data between the user machine and web server, in which the user sent a request to the webserver and then the server will respond to the client machine.\n",
    "\n",
    "# Features of Web Services\n",
    "# The following are the important features of SoapUI tools.\n",
    "\n",
    "# XML-Based: It uses XML for data representation and data transportation.\n",
    "# Loosely Coupled: The Loosely Coupled means a client machine or user can not send a request or interact directly with the webserver. The interface of the web service changes over time without losing the client machine's ability to communicate with the web service.\n",
    "# Support document exchange: XML is not just for data representation but also complex documents. And web service support exchanges complex documents to facilitate business integration.\n",
    "# Ability to support remote procedure calls: Web services allow clients to call processes, methods, and functions on remote access objects using XML based protocols."
   ]
  },
  {
   "cell_type": "code",
   "execution_count": null,
   "id": "4eb5ffbc-1989-4ea9-83a7-ae5c1ee3ed3d",
   "metadata": {},
   "outputs": [],
   "source": []
  },
  {
   "cell_type": "code",
   "execution_count": null,
   "id": "fda7899a-eb7a-40de-a4e0-81738751a49f",
   "metadata": {},
   "outputs": [],
   "source": [
    "# Q4. Explain REST and SOAP Architecture. Mention shortcomings of SOAP."
   ]
  },
  {
   "cell_type": "code",
   "execution_count": null,
   "id": "48b28d51-0054-4767-8087-1577a3672f03",
   "metadata": {},
   "outputs": [],
   "source": [
    "# REpresentational State Transfer (REST)\n",
    "#                                     is a software architectural style that defines the constraints to create web services. The web services that follows the REST architectural style is called RESTful Web Services. \n",
    "# It differentiates between the computer system and web services.\n",
    "\n",
    "# 1. Uniform Interface\n",
    "# The Uniform Interface defines the interface between client and server. It simplifies and decomposes the architecture which enables every part to be developed. The Uniform Interface has four guiding principles:\n",
    "\n",
    "# Resource-based: Individual resources are identified using the URI as a resource identifier. The resources themselves are different from the representations returned to the customer. For example, the server cannot send the database but represents some database records expressed to HTML, XML or JSON depending on the server request and the implementation details.\n",
    "# Manipulation of resources by representation: When a client represents a resource associated with metadata, there is information on the server to modify or delete it.\n",
    "\n",
    "# 2. Client-server\n",
    "# A client-server interface separates the client from the server. For Example, the separation of concerns not having an internal relationship with internal storage for each server to improve the portability of customer's data codes.\n",
    "\n",
    "# 3. Stateless\n",
    "# Stateless means the state of the service doesn't persist between subsequent requests and response. It means that the request itself contains the state required to handle the request. It can be a query-string parameter, entity, or header as a part of the URI.\n",
    "\n",
    "# SOAP Web Services\n",
    "# SOAP stands for Simple Object Access Protocol. It is a XML-based protocol for accessing web services.\n",
    "\n",
    "# SOAP is a W3C recommendation for communication between two applications.\n",
    "\n",
    "# SOAP is XML based protocol. It is platform independent and language independent. By using SOAP, you will be able to interact with other programming language applications.\n",
    "\n",
    "# Advantages of Soap Web Services\n",
    "# WS Security: SOAP defines its own security known as WS Security.\n",
    "\n",
    "# Language and Platform independent: SOAP web services can be written in any programming language and executed in any platform.\n",
    "\n",
    "# Disadvantages of Soap Web Services\n",
    "# Slow: SOAP uses XML format that must be parsed to be read. It defines many standards that must be followed while developing the SOAP applications. So it is slow and consumes more bandwidth and resource.\n",
    "\n",
    "# WSDL dependent: SOAP uses WSDL and doesn't have any other mechanism to discover the service."
   ]
  },
  {
   "cell_type": "code",
   "execution_count": null,
   "id": "9d092850-6963-47f2-acf6-31a0b073f10d",
   "metadata": {},
   "outputs": [],
   "source": []
  },
  {
   "cell_type": "code",
   "execution_count": null,
   "id": "d7d695d7-e02f-4598-b941-82e41e38f4e4",
   "metadata": {},
   "outputs": [],
   "source": [
    "# Q5. Differentiate between REST and SOAP."
   ]
  },
  {
   "cell_type": "code",
   "execution_count": null,
   "id": "7c9828fc-bbd7-4bcc-99a1-34158e93680f",
   "metadata": {},
   "outputs": [],
   "source": [
    "\"\"\"# SOAP :------------------------>\n",
    "                    1):- A XML-based message protocol \n",
    "                    2):- User WSDL for communication between consumer and provider \n",
    "                    3):- Invokes services by calling RPC method \n",
    "                    4):- Does not return human readble result \n",
    "                    5):- Transfer is over HTPP. Also uses other protocols such as SMTP, FTP ect.\n",
    "                    6):- JavaScript can call soap, but it is difficult to implement\n",
    "                    7):- performance is not great compared to rest\n",
    "\n",
    "#REST:--------------------------->\n",
    "                    1):-An architectural style protocol \n",
    "                    2):- uses XML or json to send and receive data\n",
    "                    3):-Simply calls services via URl path\n",
    "                    4):- Result is readable which is just plain XML or json \n",
    "                    5):-Transfer is over HTTP only Easy to call from javascript \n",
    "                    6):- Performance is much better compared less CPU intensive, leaner code ect.\"\"\"\""
   ]
  }
 ],
 "metadata": {
  "kernelspec": {
   "display_name": "Python 3 (ipykernel)",
   "language": "python",
   "name": "python3"
  },
  "language_info": {
   "codemirror_mode": {
    "name": "ipython",
    "version": 3
   },
   "file_extension": ".py",
   "mimetype": "text/x-python",
   "name": "python",
   "nbconvert_exporter": "python",
   "pygments_lexer": "ipython3",
   "version": "3.10.6"
  }
 },
 "nbformat": 4,
 "nbformat_minor": 5
}
